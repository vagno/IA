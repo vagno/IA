{
 "cells": [
  {
   "cell_type": "markdown",
   "metadata": {},
   "source": [
    "# Implementação do Algoritmo Backpropagation\n",
    "\n",
    "A ideia do algoritmo backpropagation é, com base no cálculo do erro ocorrido na camada de saída da rede neural, recalcular o valor dos pesos do vetor w da camada última camada de neurônios e assim proceder para as camadas anteriores, de trás para a frente (fase *backward*), ou seja, atualizar todos os pesos w das camadas a partir da última até atingir a camada de entrada da rede, para isso realizando a retropropagação o erro obtido pela rede. \n",
    "\n",
    "\n",
    "O DataSet utilizado para o treinamento da MPL 3x6x2 é o **\"arruela.csv\"**, o qual possui informações dispostas em colunas:\n",
    "\n",
    "* **Numamostra**:  Entrada 1 da MPL.\n",
    "* **Area**:  Entrada 2 da MPL.\n",
    "* **Delta**:  Entrada 3 da MPL.\n",
    "* **Output1**:  Saída 1 da MPL.\n",
    "* **Output2**:  Saída 2 da MPL.\n",
    "\n",
    "\n",
    "### Bibliotecas"
   ]
  },
  {
   "cell_type": "code",
   "execution_count": 1,
   "metadata": {},
   "outputs": [],
   "source": [
    "import pandas as pd\n",
    "import numpy as np\n",
    "import matplotlib.pyplot as plt\n",
    "import seaborn as sns\n",
    "%matplotlib inline\n",
    "\n",
    "#Função do cáculo da sigmóide\n",
    "def sigmoid(x):\n",
    "    return 1/(1+np.exp(-x))"
   ]
  },
  {
   "cell_type": "markdown",
   "metadata": {},
   "source": [
    "### Carregando os dados\n",
    "\n",
    "Para que uma rede dessas funcione, é preciso treiná-la. O treinamento de uma rede MLP insere-se no contexto de aprendizado de máquina supervisionado, em que cada amostra de dados utilizada apresenta um rótulo informando a que classificação ela se encaixa. Assim, utilizaremos um arquivo Data.csv como dataset para treinamento da nossa MPL.\n",
    "\n",
    "Vamos começar lendo o arquivo Data.csv em um dataframe do pandas."
   ]
  },
  {
   "cell_type": "code",
   "execution_count": 2,
   "metadata": {},
   "outputs": [
    {
     "data": {
      "text/html": [
       "<div>\n",
       "<style scoped>\n",
       "    .dataframe tbody tr th:only-of-type {\n",
       "        vertical-align: middle;\n",
       "    }\n",
       "\n",
       "    .dataframe tbody tr th {\n",
       "        vertical-align: top;\n",
       "    }\n",
       "\n",
       "    .dataframe thead th {\n",
       "        text-align: right;\n",
       "    }\n",
       "</style>\n",
       "<table border=\"1\" class=\"dataframe\">\n",
       "  <thead>\n",
       "    <tr style=\"text-align: right;\">\n",
       "      <th></th>\n",
       "      <th>Hora</th>\n",
       "      <th>Tamanho</th>\n",
       "      <th>Referencia</th>\n",
       "      <th>NumAmostra</th>\n",
       "      <th>Area</th>\n",
       "      <th>Delta</th>\n",
       "      <th>Output1</th>\n",
       "      <th>Output2</th>\n",
       "    </tr>\n",
       "  </thead>\n",
       "  <tbody>\n",
       "    <tr>\n",
       "      <th>0</th>\n",
       "      <td>17:56:39</td>\n",
       "      <td>53</td>\n",
       "      <td>25</td>\n",
       "      <td>69</td>\n",
       "      <td>81</td>\n",
       "      <td>68</td>\n",
       "      <td>1</td>\n",
       "      <td>0</td>\n",
       "    </tr>\n",
       "    <tr>\n",
       "      <th>1</th>\n",
       "      <td>17:56:41</td>\n",
       "      <td>53</td>\n",
       "      <td>26</td>\n",
       "      <td>89</td>\n",
       "      <td>87</td>\n",
       "      <td>56</td>\n",
       "      <td>1</td>\n",
       "      <td>0</td>\n",
       "    </tr>\n",
       "    <tr>\n",
       "      <th>2</th>\n",
       "      <td>17:56:52</td>\n",
       "      <td>53</td>\n",
       "      <td>27</td>\n",
       "      <td>68</td>\n",
       "      <td>69</td>\n",
       "      <td>55</td>\n",
       "      <td>1</td>\n",
       "      <td>0</td>\n",
       "    </tr>\n",
       "    <tr>\n",
       "      <th>3</th>\n",
       "      <td>17:56:55</td>\n",
       "      <td>53</td>\n",
       "      <td>28</td>\n",
       "      <td>36</td>\n",
       "      <td>50</td>\n",
       "      <td>80</td>\n",
       "      <td>1</td>\n",
       "      <td>0</td>\n",
       "    </tr>\n",
       "    <tr>\n",
       "      <th>4</th>\n",
       "      <td>17:56:58</td>\n",
       "      <td>53</td>\n",
       "      <td>29</td>\n",
       "      <td>71</td>\n",
       "      <td>72</td>\n",
       "      <td>50</td>\n",
       "      <td>1</td>\n",
       "      <td>0</td>\n",
       "    </tr>\n",
       "  </tbody>\n",
       "</table>\n",
       "</div>"
      ],
      "text/plain": [
       "       Hora  Tamanho  Referencia  NumAmostra  Area  Delta  Output1  Output2\n",
       "0  17:56:39       53          25          69    81     68        1        0\n",
       "1  17:56:41       53          26          89    87     56        1        0\n",
       "2  17:56:52       53          27          68    69     55        1        0\n",
       "3  17:56:55       53          28          36    50     80        1        0\n",
       "4  17:56:58       53          29          71    72     50        1        0"
      ]
     },
     "execution_count": 2,
     "metadata": {},
     "output_type": "execute_result"
    }
   ],
   "source": [
    "DataSet=pd.read_csv('arruela.csv')\n",
    "DataSet.head()"
   ]
  },
  {
   "cell_type": "code",
   "execution_count": 3,
   "metadata": {},
   "outputs": [
    {
     "data": {
      "text/html": [
       "<div>\n",
       "<style scoped>\n",
       "    .dataframe tbody tr th:only-of-type {\n",
       "        vertical-align: middle;\n",
       "    }\n",
       "\n",
       "    .dataframe tbody tr th {\n",
       "        vertical-align: top;\n",
       "    }\n",
       "\n",
       "    .dataframe thead th {\n",
       "        text-align: right;\n",
       "    }\n",
       "</style>\n",
       "<table border=\"1\" class=\"dataframe\">\n",
       "  <thead>\n",
       "    <tr style=\"text-align: right;\">\n",
       "      <th></th>\n",
       "      <th>NumAmostra</th>\n",
       "      <th>Area</th>\n",
       "      <th>Delta</th>\n",
       "      <th>Output1</th>\n",
       "      <th>Output2</th>\n",
       "    </tr>\n",
       "  </thead>\n",
       "  <tbody>\n",
       "    <tr>\n",
       "      <th>0</th>\n",
       "      <td>69</td>\n",
       "      <td>81</td>\n",
       "      <td>68</td>\n",
       "      <td>1</td>\n",
       "      <td>0</td>\n",
       "    </tr>\n",
       "    <tr>\n",
       "      <th>1</th>\n",
       "      <td>89</td>\n",
       "      <td>87</td>\n",
       "      <td>56</td>\n",
       "      <td>1</td>\n",
       "      <td>0</td>\n",
       "    </tr>\n",
       "    <tr>\n",
       "      <th>2</th>\n",
       "      <td>68</td>\n",
       "      <td>69</td>\n",
       "      <td>55</td>\n",
       "      <td>1</td>\n",
       "      <td>0</td>\n",
       "    </tr>\n",
       "    <tr>\n",
       "      <th>3</th>\n",
       "      <td>36</td>\n",
       "      <td>50</td>\n",
       "      <td>80</td>\n",
       "      <td>1</td>\n",
       "      <td>0</td>\n",
       "    </tr>\n",
       "    <tr>\n",
       "      <th>4</th>\n",
       "      <td>71</td>\n",
       "      <td>72</td>\n",
       "      <td>50</td>\n",
       "      <td>1</td>\n",
       "      <td>0</td>\n",
       "    </tr>\n",
       "  </tbody>\n",
       "</table>\n",
       "</div>"
      ],
      "text/plain": [
       "   NumAmostra  Area  Delta  Output1  Output2\n",
       "0          69    81     68        1        0\n",
       "1          89    87     56        1        0\n",
       "2          68    69     55        1        0\n",
       "3          36    50     80        1        0\n",
       "4          71    72     50        1        0"
      ]
     },
     "execution_count": 3,
     "metadata": {},
     "output_type": "execute_result"
    }
   ],
   "source": [
    "DataSet.drop(['Hora','Tamanho','Referencia'],axis=1,inplace=True)\n",
    "DataSet.head()"
   ]
  },
  {
   "cell_type": "code",
   "execution_count": 4,
   "metadata": {},
   "outputs": [
    {
     "data": {
      "image/png": "[encoded data removed]",
      "text/plain": [
       "<Figure size 432x288 with 1 Axes>"
      ]
     },
     "metadata": {},
     "output_type": "display_data"
    }
   ],
   "source": [
    "sns.set_style('whitegrid')\n",
    "sns.countplot(x='Output2',data=DataSet,palette='RdBu_r')\n",
    "plt.show()"
   ]
  },
  {
   "cell_type": "markdown",
   "metadata": {},
   "source": [
    "### Váriaveis do *Dataset*"
   ]
  },
  {
   "cell_type": "code",
   "execution_count": 5,
   "metadata": {},
   "outputs": [
    {
     "data": {
      "text/plain": [
       "Index(['NumAmostra', 'Area', 'Delta', 'Output1', 'Output2'], dtype='object')"
      ]
     },
     "execution_count": 5,
     "metadata": {},
     "output_type": "execute_result"
    }
   ],
   "source": [
    "DataSet.columns"
   ]
  },
  {
   "cell_type": "markdown",
   "metadata": {},
   "source": [
    "## Separando os dados de treinamento e de validação\n",
    "\n",
    "Agora vamos dividir os dados em um conjunto de treinamento e um conjunto de testes. Vamos treinar o modelo no conjunto de treinamento, em seguida, usar o conjunto de teste para validar o modelo.\n",
    "\n",
    "Foi separa de forma randômica 40% dos dados para validação.\n"
   ]
  },
  {
   "cell_type": "code",
   "execution_count": 6,
   "metadata": {},
   "outputs": [],
   "source": [
    "from sklearn.model_selection import train_test_split"
   ]
  },
  {
   "cell_type": "code",
   "execution_count": 7,
   "metadata": {},
   "outputs": [],
   "source": [
    "#selecionando randomicamente 30% do conjunto total de dados para os testes e o resto para fazer o treinamento supervisionado\n",
    "X_train, X_test, y_train, y_test = train_test_split(DataSet.drop(['Output1', 'Output2'],axis=1), DataSet[['Output1', 'Output2']], test_size=0.4, random_state=101)\n",
    "#print(X_test)#entradas\n",
    "#print(y_test)#saídas"
   ]
  },
  {
   "cell_type": "markdown",
   "metadata": {},
   "source": [
    "## Configuração da MPL"
   ]
  },
  {
   "cell_type": "code",
   "execution_count": 8,
   "metadata": {},
   "outputs": [
    {
     "name": "stdout",
     "output_type": "stream",
     "text": [
      "156\n",
      "3\n"
     ]
    }
   ],
   "source": [
    "#Tamanho do DataSet de Treinamento\n",
    "n_records, n_features = X_train.shape\n",
    "print(n_records)#num entradas (dados)\n",
    "print(n_features)#num de colunas (conjunto/dados)\n",
    "\n",
    "#Arquitetura da MPL\n",
    "N_input = 3 #num neuronios de entrada\n",
    "N_hidden = 6 #num neuronios na camada oculta\n",
    "N_output = 2 #num de saidas sinalizando uma ou duas peças\n",
    "learnrate = 0.02 #taxa de aprendizado"
   ]
  },
  {
   "cell_type": "markdown",
   "metadata": {},
   "source": [
    "## Inicialização dos pesos da MPL (Aleatório)"
   ]
  },
  {
   "cell_type": "code",
   "execution_count": 9,
   "metadata": {},
   "outputs": [
    {
     "data": {
      "text/plain": [
       "\"print('Pesos da Camada Oculta:')\\nprint(weights_input_hidden)\\nprint('Pesos da Camada de Saída:')\\nprint(weights_hidden_output)\""
      ]
     },
     "execution_count": 9,
     "metadata": {},
     "output_type": "execute_result"
    }
   ],
   "source": [
    "#Pesos da Camada Oculta (Inicialização Aleatória)\n",
    "#weights_input_hidden = np.random.normal(0, scale=0.1, size=(N_input, N_hidden))\n",
    "#Pesos da Camada de Saída (Inicialização Aleatória)\n",
    "#weights_hidden_output = np.random.normal(0, scale=0.1, size=(N_hidden, N_output))\n",
    "\n",
    "#Pesos da Camada Oculta (valores iniciados)\n",
    "weights_input_hidden = np.array(\n",
    "[[-0.19834255, -0.49732947, -0.02092873,  0.86475914,  0.20493013,  0.09492796],\n",
    " [ 1.11205097,  0.78359426,  0.14831484,  0.30543981,  0.18576815,  0.04934387],\n",
    " [-1.15258628, -0.43606253,  0.18709129, -1.6466203,   0.03700701,  0.18245657]]\n",
    ")\n",
    "#Pesos da Camada de Saída ((valores iniciados))\n",
    "weights_hidden_output = np.array(\n",
    " [[ 1.74992136, -1.70794244],\n",
    " [-1.59371195,  1.58215166],\n",
    " [-0.68152579,  0.59507876],\n",
    " [ 1.5941808,  -1.63840192],\n",
    " [-0.79796969,  0.72297949],\n",
    " [-0.72445758,  0.88948416]]\n",
    ")\n",
    "\n",
    "'''print('Pesos da Camada Oculta:')\n",
    "print(weights_input_hidden)\n",
    "print('Pesos da Camada de Saída:')\n",
    "print(weights_hidden_output)'''"
   ]
  },
  {
   "cell_type": "markdown",
   "metadata": {},
   "source": [
    "## Algoritmo Backpropagation\n",
    "\n"
   ]
  },
  {
   "cell_type": "code",
   "execution_count": 10,
   "metadata": {},
   "outputs": [
    {
     "name": "stdout",
     "output_type": "stream",
     "text": [
      "Erro quadrático no treinamento:  0.05959392868347878\n",
      "Erro quadrático no treinamento:  0.041810723618285986\n",
      "Erro quadrático no treinamento:  0.03798794715966676\n",
      "Erro quadrático no treinamento:  0.036191519966434174\n",
      "Erro quadrático no treinamento:  0.034679905103029346\n",
      "Erro quadrático no treinamento:  0.03324631144525405\n",
      "Erro quadrático no treinamento:  0.03189601379724474\n",
      "Erro quadrático no treinamento:  0.030637775812704094\n",
      "Erro quadrático no treinamento:  0.02947059007101578\n",
      "Erro quadrático no treinamento:  0.02838882519470151\n",
      "Erro quadrático no treinamento:  0.027385458775319792\n",
      "Erro quadrático no treinamento:  0.02645342542145321\n",
      "Erro quadrático no treinamento:  0.025586113860003083\n",
      "Erro quadrático no treinamento:  0.024777520805981317\n",
      "Erro quadrático no treinamento:  0.024022267853988796\n",
      "Erro quadrático no treinamento:  0.023315564264354466\n",
      "Erro quadrático no treinamento:  0.02265315028866914\n",
      "Erro quadrático no treinamento:  0.022031236159465804\n",
      "Erro quadrático no treinamento:  0.021446443448953523\n",
      "Erro quadrático no treinamento:  0.02089575164164613\n"
     ]
    }
   ],
   "source": [
    "epochs = 20000\n",
    "last_loss=None\n",
    "EvolucaoError=[]\n",
    "IndiceError=[]\n",
    "\n",
    "for e in range(epochs):\n",
    "    delta_w_i_h = np.zeros(weights_input_hidden.shape)\n",
    "    delta_w_h_o = np.zeros(weights_hidden_output.shape)\n",
    "    for xi, yi in zip(X_train.values, y_train.values):\n",
    "        \n",
    "# Forward Pass\n",
    "        #Camada oculta\n",
    "        #Calcule a combinação linear de entradas e pesos sinápticos\n",
    "        hidden_layer_input = np.dot(xi, weights_input_hidden)\n",
    "        #Aplicado a função de ativação\n",
    "        hidden_layer_output = sigmoid(hidden_layer_input)\n",
    "    \n",
    "        #Camada de Saída\n",
    "        #Calcule a combinação linear de entradas e pesos sinápticos\n",
    "        output_layer_in = np.dot(hidden_layer_output, weights_hidden_output)\n",
    "\n",
    "        #Aplicado a função de ativação \n",
    "        output = sigmoid(output_layer_in)\n",
    "        #print('As saídas da rede são',output)\n",
    "#-------------------------------------------    \n",
    "    \n",
    "# Backward Pass\n",
    "        ## TODO: Cálculo do Erro\n",
    "        error = yi - output\n",
    "    \n",
    "        # TODO: Calcule o termo de erro de saída (Gradiente da Camada de Saída)\n",
    "        output_error_term = error * output * (1 - output)\n",
    "\n",
    "        # TODO: Calcule a contribuição da camada oculta para o erro\n",
    "        hidden_error = np.dot(weights_hidden_output,output_error_term)\n",
    "    \n",
    "        # TODO: Calcule o termo de erro da camada oculta (Gradiente da Camada Oculta)\n",
    "        hidden_error_term = hidden_error * hidden_layer_output * (1 - hidden_layer_output)\n",
    "    \n",
    "        # TODO: Calcule a variação do peso da camada de saída\n",
    "        delta_w_h_o += output_error_term*hidden_layer_output[:, None]\n",
    "\n",
    "        # TODO: Calcule a variação do peso da camada oculta\n",
    "        delta_w_i_h += hidden_error_term * xi[:, None]\n",
    "        \n",
    "    #Atualização dos pesos na época em questão\n",
    "    weights_input_hidden += learnrate * delta_w_i_h / n_records\n",
    "    weights_hidden_output += learnrate * delta_w_h_o / n_records\n",
    "    \n",
    "    \n",
    "    # Imprimir o erro quadrático médio no conjunto de treinamento\n",
    "    \n",
    "    if  e % (epochs / 20) == 0:\n",
    "        hidden_output = sigmoid(np.dot(xi, weights_input_hidden))\n",
    "        out = sigmoid(np.dot(hidden_output,\n",
    "                             weights_hidden_output))\n",
    "        loss = np.mean((out - yi) ** 2)\n",
    "\n",
    "        if last_loss and last_loss < loss:\n",
    "            print(\"Erro quadrático no treinamento: \", loss, \" Atenção: O erro está aumentando\")\n",
    "        else:\n",
    "            print(\"Erro quadrático no treinamento: \", loss)\n",
    "        last_loss = loss\n",
    "         \n",
    "        EvolucaoError.append(loss)\n",
    "        IndiceError.append(e)"
   ]
  },
  {
   "cell_type": "code",
   "execution_count": 11,
   "metadata": {},
   "outputs": [
    {
     "name": "stdout",
     "output_type": "stream",
     "text": [
      "[[-0.255641   -0.91804708 -0.01634484  0.67868928  0.2102051   0.09806436]\n",
      " [ 1.39255295  1.4888272   0.15133004  0.7026484   0.18913961  0.05138895]\n",
      " [-1.39995074 -0.90837569  0.19453813 -1.92640068  0.04603755  0.18754653]]\n",
      "\n",
      "[[ 1.68573518 -1.66026583]\n",
      " [-2.88101143  2.876871  ]\n",
      " [-0.57900745  0.48921067]\n",
      " [ 2.00480099 -2.02339556]\n",
      " [-0.69545115  0.61711148]\n",
      " [-0.62206322  0.78374142]]\n"
     ]
    }
   ],
   "source": [
    "#Pesos da Camada Oculta\n",
    "print(weights_input_hidden)\n",
    "\n",
    "#Pesos da Camada de Saída\n",
    "print()\n",
    "print(weights_hidden_output)"
   ]
  },
  {
   "cell_type": "markdown",
   "metadata": {},
   "source": [
    "### Gráfico da Evolução do Erro"
   ]
  },
  {
   "cell_type": "code",
   "execution_count": 12,
   "metadata": {},
   "outputs": [
    {
     "data": {
      "image/png": "[encoded data removed]",
      "text/plain": [
       "<Figure size 432x288 with 1 Axes>"
      ]
     },
     "metadata": {},
     "output_type": "display_data"
    }
   ],
   "source": [
    "plt.plot(IndiceError, EvolucaoError, 'r')\n",
    "plt.xlabel('')\n",
    "plt.ylabel('Erro Quadrático')\n",
    "plt.title('Evolução do Erro no treinamento da MPL')\n",
    "plt.show()"
   ]
  },
  {
   "cell_type": "markdown",
   "metadata": {},
   "source": [
    "\n",
    "## Validação do modelo"
   ]
  },
  {
   "cell_type": "code",
   "execution_count": 13,
   "metadata": {},
   "outputs": [
    {
     "name": "stdout",
     "output_type": "stream",
     "text": [
      "Erro Quadrático Médio da Saída Output1 é:  0.12476377359341541\n",
      "Erro Quadrático Médio da Saída Output2 é:  0.12478761660110334\n",
      "A acuracia da predicao é:0.848\n"
     ]
    }
   ],
   "source": [
    "# Calcule a precisão dos dados de teste\n",
    "n_records, n_features = X_test.shape\n",
    "MSE_Output1=0\n",
    "MSE_Output2=0\n",
    "predicao=0\n",
    "\n",
    "for xi, yi in zip(X_test.values, y_test.values):\n",
    "\n",
    "# Forward Pass\n",
    "        #Camada oculta\n",
    "        #Calcule a combinação linear de entradas e pesos sinápticos\n",
    "        hidden_layer_input = np.dot(xi, weights_input_hidden)\n",
    "        #Aplicado a função de ativação\n",
    "        hidden_layer_output = sigmoid(hidden_layer_input)\n",
    "    \n",
    "        #Camada de Saída\n",
    "        #Calcule a combinação linear de entradas e pesos sinápticos\n",
    "        output_layer_in = np.dot(hidden_layer_output, weights_hidden_output)\n",
    "\n",
    "        #Aplicado a função de ativação \n",
    "        output = sigmoid(output_layer_in)\n",
    "        \n",
    "#-------------------------------------------    \n",
    "    \n",
    "#Cálculo do Erro\n",
    "        ## TODO: Cálculo do Erro\n",
    "        error = yi - output\n",
    "        MSE_Output1 += (yi[0] - output[0])**2\n",
    "        MSE_Output2 += (yi[1] - output[1])**2\n",
    "        \n",
    "#calcul0 do erro de predição\n",
    "        if(output[0]>output[1]):\n",
    "            if(yi[0]>yi[1]):\n",
    "                predicao+=1\n",
    "        if(output[1]>output[0]):\n",
    "            if(yi[1]>yi[0]):\n",
    "                predicao+=1\n",
    "          \n",
    "#Erro Quadrático Médio \n",
    "MSE_Output1/=n_records \n",
    "MSE_Output2/=n_records  \n",
    "\n",
    "print('Erro Quadrático Médio da Saída Output1 é: ',MSE_Output1)\n",
    "print('Erro Quadrático Médio da Saída Output2 é: ',MSE_Output2)\n",
    "print(\"A acuracia da predicao é:{:.3f}\".format(predicao/n_records))"
   ]
  },
  {
   "cell_type": "code",
   "execution_count": null,
   "metadata": {},
   "outputs": [],
   "source": []
  }
 ],
 "metadata": {
  "kernelspec": {
   "display_name": "Python 3",
   "language": "python",
   "name": "python3"
  },
  "language_info": {
   "codemirror_mode": {
    "name": "ipython",
    "version": 3
   },
   "file_extension": ".py",
   "mimetype": "text/x-python",
   "name": "python",
   "nbconvert_exporter": "python",
   "pygments_lexer": "ipython3",
   "version": "3.6.13"
  }
 },
 "nbformat": 4,
 "nbformat_minor": 2
}
